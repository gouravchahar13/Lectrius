{
 "cells": [
  {
   "cell_type": "code",
   "execution_count": 46,
   "id": "5b1b994c-ae81-4040-b7bb-9899c8ef47c9",
   "metadata": {},
   "outputs": [],
   "source": [
    "import pandas as pd\n",
    "import numpy as np\n",
    "import matplotlib.pyplot as plt\n",
    "\n",
    "\n"
   ]
  },
  {
   "cell_type": "code",
   "execution_count": 47,
   "id": "d0dd2baf-b5ab-4c15-81bd-c775e92f4c53",
   "metadata": {},
   "outputs": [],
   "source": [
    "df=pd.read_csv('Delhi metro.csv')"
   ]
  },
  {
   "cell_type": "code",
   "execution_count": 48,
   "id": "560b509f-f3cf-4c72-94b2-8b331f764ad3",
   "metadata": {},
   "outputs": [
    {
     "data": {
      "text/html": [
       "<div>\n",
       "<style scoped>\n",
       "    .dataframe tbody tr th:only-of-type {\n",
       "        vertical-align: middle;\n",
       "    }\n",
       "\n",
       "    .dataframe tbody tr th {\n",
       "        vertical-align: top;\n",
       "    }\n",
       "\n",
       "    .dataframe thead th {\n",
       "        text-align: right;\n",
       "    }\n",
       "</style>\n",
       "<table border=\"1\" class=\"dataframe\">\n",
       "  <thead>\n",
       "    <tr style=\"text-align: right;\">\n",
       "      <th></th>\n",
       "      <th>ID (Station ID)</th>\n",
       "      <th>Station Names</th>\n",
       "      <th>Dist. From First Station(km)</th>\n",
       "      <th>Metro Line</th>\n",
       "      <th>Opened(Year)</th>\n",
       "      <th>Layout</th>\n",
       "      <th>Latitude</th>\n",
       "      <th>Longitude</th>\n",
       "    </tr>\n",
       "  </thead>\n",
       "  <tbody>\n",
       "    <tr>\n",
       "      <th>0</th>\n",
       "      <td>1.0</td>\n",
       "      <td>Shaheed Sthal(First Station)</td>\n",
       "      <td>0.0</td>\n",
       "      <td>Red line</td>\n",
       "      <td>08-03-2019</td>\n",
       "      <td>Elevated</td>\n",
       "      <td>28.670611</td>\n",
       "      <td>77.415582</td>\n",
       "    </tr>\n",
       "    <tr>\n",
       "      <th>1</th>\n",
       "      <td>2.0</td>\n",
       "      <td>Hindon River</td>\n",
       "      <td>1.0</td>\n",
       "      <td>Red line</td>\n",
       "      <td>08-03-2019</td>\n",
       "      <td>Elevated</td>\n",
       "      <td>28.878965</td>\n",
       "      <td>77.415483</td>\n",
       "    </tr>\n",
       "    <tr>\n",
       "      <th>2</th>\n",
       "      <td>3.0</td>\n",
       "      <td>Arthala</td>\n",
       "      <td>2.5</td>\n",
       "      <td>Red line</td>\n",
       "      <td>08-03-2019</td>\n",
       "      <td>Elevated</td>\n",
       "      <td>28.676999</td>\n",
       "      <td>77.391892</td>\n",
       "    </tr>\n",
       "    <tr>\n",
       "      <th>3</th>\n",
       "      <td>4.0</td>\n",
       "      <td>Mohan Nagar</td>\n",
       "      <td>3.2</td>\n",
       "      <td>Red line</td>\n",
       "      <td>08-03-2019</td>\n",
       "      <td>Elevated</td>\n",
       "      <td>28.606319</td>\n",
       "      <td>77.106082</td>\n",
       "    </tr>\n",
       "    <tr>\n",
       "      <th>4</th>\n",
       "      <td>5.0</td>\n",
       "      <td>Shyam park</td>\n",
       "      <td>4.5</td>\n",
       "      <td>Red line</td>\n",
       "      <td>08-03-2019</td>\n",
       "      <td>Elevated</td>\n",
       "      <td>28.698807</td>\n",
       "      <td>28.698807</td>\n",
       "    </tr>\n",
       "  </tbody>\n",
       "</table>\n",
       "</div>"
      ],
      "text/plain": [
       "   ID (Station ID)                 Station Names  \\\n",
       "0              1.0  Shaheed Sthal(First Station)   \n",
       "1              2.0                  Hindon River   \n",
       "2              3.0                       Arthala   \n",
       "3              4.0                   Mohan Nagar   \n",
       "4              5.0                    Shyam park   \n",
       "\n",
       "   Dist. From First Station(km) Metro Line Opened(Year)    Layout   Latitude  \\\n",
       "0                           0.0   Red line   08-03-2019  Elevated  28.670611   \n",
       "1                           1.0   Red line   08-03-2019  Elevated  28.878965   \n",
       "2                           2.5   Red line   08-03-2019  Elevated  28.676999   \n",
       "3                           3.2   Red line   08-03-2019  Elevated  28.606319   \n",
       "4                           4.5   Red line   08-03-2019  Elevated  28.698807   \n",
       "\n",
       "   Longitude  \n",
       "0  77.415582  \n",
       "1  77.415483  \n",
       "2  77.391892  \n",
       "3  77.106082  \n",
       "4  28.698807  "
      ]
     },
     "execution_count": 48,
     "metadata": {},
     "output_type": "execute_result"
    }
   ],
   "source": [
    "df.head()\n"
   ]
  },
  {
   "cell_type": "code",
   "execution_count": 49,
   "id": "08d24130-0334-410c-a69d-d122a1a45c41",
   "metadata": {},
   "outputs": [
    {
     "data": {
      "text/plain": [
       "ID (Station ID)                 53\n",
       "Station Names                    3\n",
       "Dist. From First Station(km)    53\n",
       "Metro Line                      53\n",
       "Opened(Year)                    53\n",
       "Layout                          53\n",
       "Latitude                        52\n",
       "Longitude                       52\n",
       "dtype: int64"
      ]
     },
     "execution_count": 49,
     "metadata": {},
     "output_type": "execute_result"
    }
   ],
   "source": [
    "df.isna().sum()\n"
   ]
  },
  {
   "cell_type": "code",
   "execution_count": 50,
   "id": "a2c7be63-a856-411d-a79c-fa569a1f938b",
   "metadata": {},
   "outputs": [],
   "source": [
    "df=df.dropna()"
   ]
  },
  {
   "cell_type": "code",
   "execution_count": 51,
   "id": "1d59be82-d80a-420e-8650-dd956d0dc2a8",
   "metadata": {},
   "outputs": [],
   "source": [
    "new_df= df.drop(['Dist. From First Station(km)','Metro Line','Opened(Year)','Layout'],axis=1,inplace=True)"
   ]
  },
  {
   "cell_type": "code",
   "execution_count": 52,
   "id": "07d750e4-3f2e-4643-a78a-d0db772ed1ae",
   "metadata": {},
   "outputs": [
    {
     "data": {
      "text/plain": [
       "(284, 4)"
      ]
     },
     "execution_count": 52,
     "metadata": {},
     "output_type": "execute_result"
    }
   ],
   "source": [
    "df.shape\n"
   ]
  },
  {
   "cell_type": "code",
   "execution_count": 53,
   "id": "9ff47492-f59d-4ed0-adb6-854047b0458a",
   "metadata": {},
   "outputs": [
    {
     "data": {
      "text/html": [
       "<div>\n",
       "<style scoped>\n",
       "    .dataframe tbody tr th:only-of-type {\n",
       "        vertical-align: middle;\n",
       "    }\n",
       "\n",
       "    .dataframe tbody tr th {\n",
       "        vertical-align: top;\n",
       "    }\n",
       "\n",
       "    .dataframe thead th {\n",
       "        text-align: right;\n",
       "    }\n",
       "</style>\n",
       "<table border=\"1\" class=\"dataframe\">\n",
       "  <thead>\n",
       "    <tr style=\"text-align: right;\">\n",
       "      <th></th>\n",
       "      <th>ID (Station ID)</th>\n",
       "      <th>Station Names</th>\n",
       "      <th>Latitude</th>\n",
       "      <th>Longitude</th>\n",
       "    </tr>\n",
       "  </thead>\n",
       "  <tbody>\n",
       "    <tr>\n",
       "      <th>0</th>\n",
       "      <td>1.0</td>\n",
       "      <td>Shaheed Sthal(First Station)</td>\n",
       "      <td>28.670611</td>\n",
       "      <td>77.415582</td>\n",
       "    </tr>\n",
       "    <tr>\n",
       "      <th>1</th>\n",
       "      <td>2.0</td>\n",
       "      <td>Hindon River</td>\n",
       "      <td>28.878965</td>\n",
       "      <td>77.415483</td>\n",
       "    </tr>\n",
       "    <tr>\n",
       "      <th>2</th>\n",
       "      <td>3.0</td>\n",
       "      <td>Arthala</td>\n",
       "      <td>28.676999</td>\n",
       "      <td>77.391892</td>\n",
       "    </tr>\n",
       "    <tr>\n",
       "      <th>3</th>\n",
       "      <td>4.0</td>\n",
       "      <td>Mohan Nagar</td>\n",
       "      <td>28.606319</td>\n",
       "      <td>77.106082</td>\n",
       "    </tr>\n",
       "    <tr>\n",
       "      <th>4</th>\n",
       "      <td>5.0</td>\n",
       "      <td>Shyam park</td>\n",
       "      <td>28.698807</td>\n",
       "      <td>28.698807</td>\n",
       "    </tr>\n",
       "    <tr>\n",
       "      <th>...</th>\n",
       "      <td>...</td>\n",
       "      <td>...</td>\n",
       "      <td>...</td>\n",
       "      <td>...</td>\n",
       "    </tr>\n",
       "    <tr>\n",
       "      <th>331</th>\n",
       "      <td>2.0</td>\n",
       "      <td>Shivaji Stadium</td>\n",
       "      <td>28.629010</td>\n",
       "      <td>77.211900</td>\n",
       "    </tr>\n",
       "    <tr>\n",
       "      <th>332</th>\n",
       "      <td>3.0</td>\n",
       "      <td>Dhaula Kuan</td>\n",
       "      <td>28.591780</td>\n",
       "      <td>77.161550</td>\n",
       "    </tr>\n",
       "    <tr>\n",
       "      <th>334</th>\n",
       "      <td>4.0</td>\n",
       "      <td>Delhi Aerocity</td>\n",
       "      <td>28.548810</td>\n",
       "      <td>77.120920</td>\n",
       "    </tr>\n",
       "    <tr>\n",
       "      <th>335</th>\n",
       "      <td>5.0</td>\n",
       "      <td>IGI Airport</td>\n",
       "      <td>28.556930</td>\n",
       "      <td>77.086690</td>\n",
       "    </tr>\n",
       "    <tr>\n",
       "      <th>336</th>\n",
       "      <td>6.0</td>\n",
       "      <td>Dwarka Sector 21</td>\n",
       "      <td>28.552260</td>\n",
       "      <td>77.058280</td>\n",
       "    </tr>\n",
       "  </tbody>\n",
       "</table>\n",
       "<p>284 rows × 4 columns</p>\n",
       "</div>"
      ],
      "text/plain": [
       "     ID (Station ID)                 Station Names   Latitude  Longitude\n",
       "0                1.0  Shaheed Sthal(First Station)  28.670611  77.415582\n",
       "1                2.0                  Hindon River  28.878965  77.415483\n",
       "2                3.0                       Arthala  28.676999  77.391892\n",
       "3                4.0                   Mohan Nagar  28.606319  77.106082\n",
       "4                5.0                    Shyam park  28.698807  28.698807\n",
       "..               ...                           ...        ...        ...\n",
       "331              2.0               Shivaji Stadium  28.629010  77.211900\n",
       "332              3.0                   Dhaula Kuan  28.591780  77.161550\n",
       "334              4.0                Delhi Aerocity  28.548810  77.120920\n",
       "335              5.0                   IGI Airport  28.556930  77.086690\n",
       "336              6.0              Dwarka Sector 21  28.552260  77.058280\n",
       "\n",
       "[284 rows x 4 columns]"
      ]
     },
     "execution_count": 53,
     "metadata": {},
     "output_type": "execute_result"
    }
   ],
   "source": [
    "\n",
    "df"
   ]
  },
  {
   "cell_type": "code",
   "execution_count": 54,
   "id": "3f324c08-b6ab-416d-b5e6-8a82cf3aeea4",
   "metadata": {},
   "outputs": [],
   "source": [
    "df.drop('ID (Station ID)',axis=1,inplace=True)\t"
   ]
  },
  {
   "cell_type": "code",
   "execution_count": 55,
   "id": "1611be17-204b-42f9-833c-0b19ff824c72",
   "metadata": {},
   "outputs": [
    {
     "data": {
      "text/html": [
       "<div>\n",
       "<style scoped>\n",
       "    .dataframe tbody tr th:only-of-type {\n",
       "        vertical-align: middle;\n",
       "    }\n",
       "\n",
       "    .dataframe tbody tr th {\n",
       "        vertical-align: top;\n",
       "    }\n",
       "\n",
       "    .dataframe thead th {\n",
       "        text-align: right;\n",
       "    }\n",
       "</style>\n",
       "<table border=\"1\" class=\"dataframe\">\n",
       "  <thead>\n",
       "    <tr style=\"text-align: right;\">\n",
       "      <th></th>\n",
       "      <th>Station Names</th>\n",
       "      <th>Latitude</th>\n",
       "      <th>Longitude</th>\n",
       "    </tr>\n",
       "  </thead>\n",
       "  <tbody>\n",
       "    <tr>\n",
       "      <th>0</th>\n",
       "      <td>Shaheed Sthal(First Station)</td>\n",
       "      <td>28.670611</td>\n",
       "      <td>77.415582</td>\n",
       "    </tr>\n",
       "    <tr>\n",
       "      <th>1</th>\n",
       "      <td>Hindon River</td>\n",
       "      <td>28.878965</td>\n",
       "      <td>77.415483</td>\n",
       "    </tr>\n",
       "    <tr>\n",
       "      <th>2</th>\n",
       "      <td>Arthala</td>\n",
       "      <td>28.676999</td>\n",
       "      <td>77.391892</td>\n",
       "    </tr>\n",
       "    <tr>\n",
       "      <th>3</th>\n",
       "      <td>Mohan Nagar</td>\n",
       "      <td>28.606319</td>\n",
       "      <td>77.106082</td>\n",
       "    </tr>\n",
       "    <tr>\n",
       "      <th>4</th>\n",
       "      <td>Shyam park</td>\n",
       "      <td>28.698807</td>\n",
       "      <td>28.698807</td>\n",
       "    </tr>\n",
       "    <tr>\n",
       "      <th>...</th>\n",
       "      <td>...</td>\n",
       "      <td>...</td>\n",
       "      <td>...</td>\n",
       "    </tr>\n",
       "    <tr>\n",
       "      <th>331</th>\n",
       "      <td>Shivaji Stadium</td>\n",
       "      <td>28.629010</td>\n",
       "      <td>77.211900</td>\n",
       "    </tr>\n",
       "    <tr>\n",
       "      <th>332</th>\n",
       "      <td>Dhaula Kuan</td>\n",
       "      <td>28.591780</td>\n",
       "      <td>77.161550</td>\n",
       "    </tr>\n",
       "    <tr>\n",
       "      <th>334</th>\n",
       "      <td>Delhi Aerocity</td>\n",
       "      <td>28.548810</td>\n",
       "      <td>77.120920</td>\n",
       "    </tr>\n",
       "    <tr>\n",
       "      <th>335</th>\n",
       "      <td>IGI Airport</td>\n",
       "      <td>28.556930</td>\n",
       "      <td>77.086690</td>\n",
       "    </tr>\n",
       "    <tr>\n",
       "      <th>336</th>\n",
       "      <td>Dwarka Sector 21</td>\n",
       "      <td>28.552260</td>\n",
       "      <td>77.058280</td>\n",
       "    </tr>\n",
       "  </tbody>\n",
       "</table>\n",
       "<p>284 rows × 3 columns</p>\n",
       "</div>"
      ],
      "text/plain": [
       "                    Station Names   Latitude  Longitude\n",
       "0    Shaheed Sthal(First Station)  28.670611  77.415582\n",
       "1                    Hindon River  28.878965  77.415483\n",
       "2                         Arthala  28.676999  77.391892\n",
       "3                     Mohan Nagar  28.606319  77.106082\n",
       "4                      Shyam park  28.698807  28.698807\n",
       "..                            ...        ...        ...\n",
       "331               Shivaji Stadium  28.629010  77.211900\n",
       "332                   Dhaula Kuan  28.591780  77.161550\n",
       "334                Delhi Aerocity  28.548810  77.120920\n",
       "335                   IGI Airport  28.556930  77.086690\n",
       "336              Dwarka Sector 21  28.552260  77.058280\n",
       "\n",
       "[284 rows x 3 columns]"
      ]
     },
     "execution_count": 55,
     "metadata": {},
     "output_type": "execute_result"
    }
   ],
   "source": [
    "df"
   ]
  },
  {
   "cell_type": "code",
   "execution_count": 56,
   "id": "e69066c6-bbbb-4045-9e47-15f2a0aff687",
   "metadata": {},
   "outputs": [
    {
     "data": {
      "text/html": [
       "<div>\n",
       "<style scoped>\n",
       "    .dataframe tbody tr th:only-of-type {\n",
       "        vertical-align: middle;\n",
       "    }\n",
       "\n",
       "    .dataframe tbody tr th {\n",
       "        vertical-align: top;\n",
       "    }\n",
       "\n",
       "    .dataframe thead th {\n",
       "        text-align: right;\n",
       "    }\n",
       "</style>\n",
       "<table border=\"1\" class=\"dataframe\">\n",
       "  <thead>\n",
       "    <tr style=\"text-align: right;\">\n",
       "      <th></th>\n",
       "      <th>Station Names</th>\n",
       "      <th>Latitude</th>\n",
       "      <th>Longitude</th>\n",
       "    </tr>\n",
       "  </thead>\n",
       "  <tbody>\n",
       "    <tr>\n",
       "      <th>0</th>\n",
       "      <td>Shaheed Sthal(First Station)</td>\n",
       "      <td>28.670611</td>\n",
       "      <td>77.415582</td>\n",
       "    </tr>\n",
       "    <tr>\n",
       "      <th>1</th>\n",
       "      <td>Hindon River</td>\n",
       "      <td>28.878965</td>\n",
       "      <td>77.415483</td>\n",
       "    </tr>\n",
       "    <tr>\n",
       "      <th>2</th>\n",
       "      <td>Arthala</td>\n",
       "      <td>28.676999</td>\n",
       "      <td>77.391892</td>\n",
       "    </tr>\n",
       "    <tr>\n",
       "      <th>3</th>\n",
       "      <td>Mohan Nagar</td>\n",
       "      <td>28.606319</td>\n",
       "      <td>77.106082</td>\n",
       "    </tr>\n",
       "    <tr>\n",
       "      <th>4</th>\n",
       "      <td>Shyam park</td>\n",
       "      <td>28.698807</td>\n",
       "      <td>28.698807</td>\n",
       "    </tr>\n",
       "    <tr>\n",
       "      <th>...</th>\n",
       "      <td>...</td>\n",
       "      <td>...</td>\n",
       "      <td>...</td>\n",
       "    </tr>\n",
       "    <tr>\n",
       "      <th>331</th>\n",
       "      <td>Shivaji Stadium</td>\n",
       "      <td>28.629010</td>\n",
       "      <td>77.211900</td>\n",
       "    </tr>\n",
       "    <tr>\n",
       "      <th>332</th>\n",
       "      <td>Dhaula Kuan</td>\n",
       "      <td>28.591780</td>\n",
       "      <td>77.161550</td>\n",
       "    </tr>\n",
       "    <tr>\n",
       "      <th>334</th>\n",
       "      <td>Delhi Aerocity</td>\n",
       "      <td>28.548810</td>\n",
       "      <td>77.120920</td>\n",
       "    </tr>\n",
       "    <tr>\n",
       "      <th>335</th>\n",
       "      <td>IGI Airport</td>\n",
       "      <td>28.556930</td>\n",
       "      <td>77.086690</td>\n",
       "    </tr>\n",
       "    <tr>\n",
       "      <th>336</th>\n",
       "      <td>Dwarka Sector 21</td>\n",
       "      <td>28.552260</td>\n",
       "      <td>77.058280</td>\n",
       "    </tr>\n",
       "  </tbody>\n",
       "</table>\n",
       "<p>284 rows × 3 columns</p>\n",
       "</div>"
      ],
      "text/plain": [
       "                    Station Names   Latitude  Longitude\n",
       "0    Shaheed Sthal(First Station)  28.670611  77.415582\n",
       "1                    Hindon River  28.878965  77.415483\n",
       "2                         Arthala  28.676999  77.391892\n",
       "3                     Mohan Nagar  28.606319  77.106082\n",
       "4                      Shyam park  28.698807  28.698807\n",
       "..                            ...        ...        ...\n",
       "331               Shivaji Stadium  28.629010  77.211900\n",
       "332                   Dhaula Kuan  28.591780  77.161550\n",
       "334                Delhi Aerocity  28.548810  77.120920\n",
       "335                   IGI Airport  28.556930  77.086690\n",
       "336              Dwarka Sector 21  28.552260  77.058280\n",
       "\n",
       "[284 rows x 3 columns]"
      ]
     },
     "execution_count": 56,
     "metadata": {},
     "output_type": "execute_result"
    }
   ],
   "source": [
    "df"
   ]
  },
  {
   "cell_type": "code",
   "execution_count": 57,
   "id": "74455228-ed82-4239-9398-dc99744860e0",
   "metadata": {},
   "outputs": [],
   "source": [
    "df.to_csv('data_proc.csv')"
   ]
  },
  {
   "cell_type": "code",
   "execution_count": 58,
   "id": "a5abea77-1634-40a2-a851-65ea935f676d",
   "metadata": {},
   "outputs": [],
   "source": [
    "import random"
   ]
  },
  {
   "cell_type": "code",
   "execution_count": 59,
   "id": "34a8d4c8-38de-4a45-90ad-d070d6342ab7",
   "metadata": {},
   "outputs": [],
   "source": [
    "keys=list(df.index)"
   ]
  },
  {
   "cell_type": "code",
   "execution_count": 60,
   "id": "b5499e4d-11ac-45e1-a3c4-2b70394951e4",
   "metadata": {},
   "outputs": [],
   "source": [
    "no=random.choice(keys)"
   ]
  },
  {
   "cell_type": "code",
   "execution_count": 61,
   "id": "77c36314-e8dc-48ca-a602-6e1a9fa830e3",
   "metadata": {},
   "outputs": [],
   "source": [
    "cur_loc = df.loc[no]"
   ]
  },
  {
   "cell_type": "code",
   "execution_count": 62,
   "id": "5003e335-781f-44b3-b949-f3119dcf27e4",
   "metadata": {},
   "outputs": [
    {
     "data": {
      "text/plain": [
       "Station Names    Mandawali - West Vinod Nagar\n",
       "Latitude                            28.624971\n",
       "Longitude                           77.304491\n",
       "Name: 287, dtype: object"
      ]
     },
     "execution_count": 62,
     "metadata": {},
     "output_type": "execute_result"
    }
   ],
   "source": [
    "cur_loc"
   ]
  },
  {
   "cell_type": "code",
   "execution_count": 63,
   "id": "e597dc06-1c87-4892-b5d7-8328209c69af",
   "metadata": {},
   "outputs": [],
   "source": [
    "new_df=df"
   ]
  },
  {
   "cell_type": "code",
   "execution_count": 64,
   "id": "56a9d603-729d-4563-9209-da150cc99ed2",
   "metadata": {},
   "outputs": [
    {
     "name": "stdout",
     "output_type": "stream",
     "text": [
      "Requirement already satisfied: pip in c:\\users\\swaraj\\appdata\\local\\programs\\python\\python312\\lib\\site-packages (24.0)\n",
      "Collecting pip\n",
      "  Using cached pip-24.1.1-py3-none-any.whl.metadata (3.6 kB)\n",
      "Using cached pip-24.1.1-py3-none-any.whl (1.8 MB)\n"
     ]
    },
    {
     "name": "stderr",
     "output_type": "stream",
     "text": [
      "ERROR: To modify pip, please run the following command:\n",
      "C:\\Users\\swaraj\\AppData\\Local\\Programs\\Python\\Python312\\python.exe -m pip install --upgrade pip\n",
      "\n",
      "[notice] A new release of pip is available: 24.0 -> 24.1.1\n",
      "[notice] To update, run: python.exe -m pip install --upgrade pip\n"
     ]
    }
   ],
   "source": [
    "!pip install --upgrade pip"
   ]
  },
  {
   "cell_type": "code",
   "execution_count": 65,
   "id": "02fde433-0696-431e-9f7d-085ca0acc085",
   "metadata": {},
   "outputs": [
    {
     "name": "stdout",
     "output_type": "stream",
     "text": [
      "Requirement already satisfied: pygeodesic in c:\\users\\swaraj\\appdata\\local\\programs\\python\\python312\\lib\\site-packages (0.1.9)\n",
      "Requirement already satisfied: numpy in c:\\users\\swaraj\\appdata\\local\\programs\\python\\python312\\lib\\site-packages (from pygeodesic) (2.0.0)\n"
     ]
    },
    {
     "name": "stderr",
     "output_type": "stream",
     "text": [
      "\n",
      "[notice] A new release of pip is available: 24.0 -> 24.1.1\n",
      "[notice] To update, run: python.exe -m pip install --upgrade pip\n"
     ]
    }
   ],
   "source": [
    "!pip install pygeodesic"
   ]
  },
  {
   "cell_type": "code",
   "execution_count": 66,
   "id": "e99a8da0-dcb1-471d-8fd0-aea97b160b90",
   "metadata": {},
   "outputs": [
    {
     "ename": "ModuleNotFoundError",
     "evalue": "No module named 'geopy'",
     "output_type": "error",
     "traceback": [
      "\u001b[1;31m---------------------------------------------------------------------------\u001b[0m",
      "\u001b[1;31mModuleNotFoundError\u001b[0m                       Traceback (most recent call last)",
      "Cell \u001b[1;32mIn[66], line 1\u001b[0m\n\u001b[1;32m----> 1\u001b[0m \u001b[38;5;28;01mfrom\u001b[39;00m \u001b[38;5;21;01mgeopy\u001b[39;00m\u001b[38;5;21;01m.\u001b[39;00m\u001b[38;5;21;01mdistance\u001b[39;00m \u001b[38;5;28;01mimport\u001b[39;00m geodesic\n",
      "\u001b[1;31mModuleNotFoundError\u001b[0m: No module named 'geopy'"
     ]
    }
   ],
   "source": [
    "from geopy.distance import geodesic"
   ]
  },
  {
   "cell_type": "code",
   "execution_count": null,
   "id": "9aa24998-8b25-457f-9c64-07585b777eb3",
   "metadata": {},
   "outputs": [],
   "source": [
    "!pip install geopy"
   ]
  },
  {
   "cell_type": "code",
   "execution_count": null,
   "id": "2e2bf5e9-9d28-400c-a07d-5fe6fc3ee765",
   "metadata": {},
   "outputs": [],
   "source": [
    "from geopy.distance import geodesic"
   ]
  },
  {
   "cell_type": "code",
   "execution_count": null,
   "id": "784a5e7d-3377-4827-966e-e6491e5eae8c",
   "metadata": {},
   "outputs": [],
   "source": [
    "def distance(data):\n",
    "    ans=[]\n",
    "    for x in df:\n",
    "        coords1 = (x.Longitude, x.Longitude)\n",
    "        coords2 = (data['Longitude'], data['Longitude'])\n",
    "        dist = geodesic(coords1, coords2).km\n",
    "        ans+=dist\n",
    "        print(dist)"
   ]
  },
  {
   "cell_type": "code",
   "execution_count": null,
   "id": "e6542f34-4c4e-4fbe-ae62-c3ab80b5ea3c",
   "metadata": {},
   "outputs": [],
   "source": [
    "distance(cur_loc)"
   ]
  },
  {
   "cell_type": "markdown",
   "id": "2f38f854-8adf-492f-a58e-c495e814c29e",
   "metadata": {},
   "source": [
    "# Ml Project to get nearby 5 distances and check accuracy and rsm"
   ]
  },
  {
   "cell_type": "code",
   "execution_count": 187,
   "id": "18a96aab-56a4-4a00-9e52-933dd214cbfc",
   "metadata": {},
   "outputs": [],
   "source": []
  },
  {
   "cell_type": "code",
   "execution_count": 284,
   "id": "e06b4c61-fc87-4d19-8845-0faf3db7a3b1",
   "metadata": {},
   "outputs": [
    {
     "data": {
      "text/plain": [
       "ID (Station ID)                 0\n",
       "Station Names                   0\n",
       "Dist. From First Station(km)    0\n",
       "Metro Line                      0\n",
       "Opened(Year)                    0\n",
       "Layout                          0\n",
       "Latitude                        0\n",
       "Longitude                       0\n",
       "dtype: int64"
      ]
     },
     "execution_count": 284,
     "metadata": {},
     "output_type": "execute_result"
    }
   ],
   "source": [
    "# Read your actual data from CSV into a DataFrame\n",
    "df = pd.read_csv('Delhi metro.csv')\n",
    "df=df.dropna()\n",
    "df.isna().sum()"
   ]
  },
  {
   "cell_type": "code",
   "execution_count": 288,
   "id": "6ceeaeb0-a74e-4be7-9701-0da8c3fb9387",
   "metadata": {},
   "outputs": [
    {
     "name": "stdout",
     "output_type": "stream",
     "text": [
      "     ID (Station ID)                 Station Names  \\\n",
      "0                1.0  Shaheed Sthal(First Station)   \n",
      "1                2.0                  Hindon River   \n",
      "2                3.0                       Arthala   \n",
      "3                4.0                   Mohan Nagar   \n",
      "4                5.0                    Shyam park   \n",
      "..               ...                           ...   \n",
      "331              2.0               Shivaji Stadium   \n",
      "332              3.0                   Dhaula Kuan   \n",
      "334              4.0                Delhi Aerocity   \n",
      "335              5.0                   IGI Airport   \n",
      "336              6.0              Dwarka Sector 21   \n",
      "\n",
      "     Dist. From First Station(km)   Metro Line Opened(Year)       Layout  \\\n",
      "0                             0.0     Red line   08-03-2019     Elevated   \n",
      "1                             1.0     Red line   08-03-2019     Elevated   \n",
      "2                             2.5     Red line   08-03-2019     Elevated   \n",
      "3                             3.2     Red line   08-03-2019     Elevated   \n",
      "4                             4.5     Red line   08-03-2019     Elevated   \n",
      "..                            ...          ...          ...          ...   \n",
      "331                           1.9  Orange line   23-02-2011  Underground   \n",
      "332                           8.3  Orange line   15-08-2011     Elevated   \n",
      "334                          14.5  Orange line   15-08-2011  Underground   \n",
      "335                          17.9  Orange line   23-02-2011  Underground   \n",
      "336                          20.8  Orange line   23-02-2011  Underground   \n",
      "\n",
      "      Latitude  Longitude  Distance_km  \n",
      "0    28.670611  77.415582    22.418909  \n",
      "1    28.878965  77.415483    35.248676  \n",
      "2    28.676999  77.391892    20.324342  \n",
      "3    28.606319  77.106082     8.666434  \n",
      "4    28.698807  77.154000     8.339373  \n",
      "..         ...        ...          ...  \n",
      "331  28.629010  77.211900     2.116014  \n",
      "332  28.591780  77.161550     5.180195  \n",
      "334  28.548810  77.120920    11.370505  \n",
      "335  28.556930  77.086690    13.041308  \n",
      "336  28.552260  77.058280    15.579598  \n",
      "\n",
      "[284 rows x 9 columns]\n"
     ]
    }
   ],
   "source": [
    "import numpy as np\n",
    "import pandas as pd\n",
    "from math import radians, sin, cos, sqrt, atan2\n",
    "\n",
    "def haversine_distance(lat1, lon1, lat2, lon2):\n",
    "    # Convert latitude and longitude from degrees to radians\n",
    "    lat1, lon1, lat2, lon2 = map(radians, [lat1, lon1, lat2, lon2])\n",
    "\n",
    "    # Haversine formula\n",
    "    dlon = lon2 - lon1\n",
    "    dlat = lat2 - lat1\n",
    "    a = sin(dlat/2)**2 + cos(lat1) * cos(lat2) * sin(dlon/2)**2\n",
    "    c = 2 * atan2(sqrt(a), sqrt(1 - a))\n",
    "    distance_km = 6371 * c  # Radius of the Earth in km\n",
    "    return distance_km\n",
    "\n",
    "def generate_random_coordinate(center, radius):\n",
    "    angle = np.random.uniform(0, 2 * np.pi)\n",
    "    r = radius * np.sqrt(np.random.uniform(0, 1))\n",
    "    dx = r * np.cos(angle)\n",
    "    dy = r * np.sin(angle)\n",
    "    random_lat = center[0] + (dy / 110.574)  # Approx. km per degree latitude\n",
    "    random_lon = center[1] + (dx / (111.320 * np.cos(np.radians(center[0]))))  # Approx. km per degree longitude\n",
    "    return np.array([random_lat, random_lon])\n",
    "\n",
    "# Example user coordinates (center)\n",
    "user_coordinates = [28.6139,77.2090]  # Example center coordinates (New York City)\n",
    "\n",
    "# Generate one random coordinate within a 10 km radius around user_coordinates\n",
    "radius_km = 10\n",
    "random_coordinate = generate_random_coordinate(user_coordinates, radius_km)\n",
    "\n",
    "# Load your DataFrame 'df' with 'Latitude' and 'Longitude' columns\n",
    "\n",
    "# Calculate distances to points in DataFrame\n",
    "distances = []\n",
    "for index, row in df.iterrows():\n",
    "    point_lat = row['Latitude']\n",
    "    point_lon = row['Longitude']\n",
    "    distance_km = haversine_distance(random_coordinate[0], random_coordinate[1], point_lat, point_lon)\n",
    "    distances.append(distance_km)\n",
    "df['Distance_km'] = distances\n",
    "print( df)\n",
    "# Now distances list contains the distances from the random_coordinate to each point in your DataFrame\n"
   ]
  },
  {
   "cell_type": "code",
   "execution_count": null,
   "id": "814215be-11aa-4842-bacc-74c69c573084",
   "metadata": {},
   "outputs": [],
   "source": []
  },
  {
   "cell_type": "code",
   "execution_count": 302,
   "id": "1321702e-c40e-4439-9a97-7182ec2cdc71",
   "metadata": {},
   "outputs": [
    {
     "data": {
      "text/plain": [
       "<bound method NDFrame.describe of       Latitude  Longitude\n",
       "0    28.670611  77.415582\n",
       "1    28.878965  77.415483\n",
       "2    28.676999  77.391892\n",
       "3    28.606319  77.106082\n",
       "4    28.698807  77.154000\n",
       "..         ...        ...\n",
       "331  28.629010  77.211900\n",
       "332  28.591780  77.161550\n",
       "334  28.548810  77.120920\n",
       "335  28.556930  77.086690\n",
       "336  28.552260  77.058280\n",
       "\n",
       "[284 rows x 2 columns]>"
      ]
     },
     "execution_count": 302,
     "metadata": {},
     "output_type": "execute_result"
    }
   ],
   "source": [
    "\n",
    "label=df.iloc[:,-1]\n",
    "features=df.iloc[:,6:8]\n",
    "features.describe"
   ]
  },
  {
   "cell_type": "code",
   "execution_count": 303,
   "id": "7706d24a-8df8-4bbc-b434-877534b682df",
   "metadata": {},
   "outputs": [
    {
     "name": "stdout",
     "output_type": "stream",
     "text": [
      "Top 5 Predicted Distances:\n",
      "Rank 1: 29.92165968229711\n",
      "Rank 2: 19.607775102843178\n",
      "Rank 3: 18.19696176756334\n",
      "Rank 4: 17.96051475037175\n",
      "Rank 5: 16.80271052991146\n",
      "R^2 Score: 0.9228692717030454\n",
      "Mean Squared Error (MSE): 4.416128567830394\n"
     ]
    }
   ],
   "source": [
    "import numpy as np\n",
    "from sklearn.neighbors import KNeighborsRegressor\n",
    "from sklearn.model_selection import train_test_split\n",
    "from sklearn.metrics import r2_score, mean_squared_error\n",
    "\n",
    "# Assuming you have defined x_train, x_test, y_train, y_test and knn_regressor as in your example\n",
    "\n",
    "# Fit the model\n",
    "knn_regressor.fit(x_train, y_train)\n",
    "\n",
    "# Predict distances on the test data\n",
    "y_pred = knn_regressor.predict(x_test)\n",
    "\n",
    "# Get the top 5 predicted distances\n",
    "top_5_distances_idx = np.argsort(y_pred)[::-1][:5]  # Indices of top 5 distances (descending order)\n",
    "top_5_distances = y_pred[top_5_distances_idx]  # Top 5 distances\n",
    "\n",
    "# Print top 5 distances\n",
    "print(\"Top 5 Predicted Distances:\")\n",
    "for i, distance in enumerate(top_5_distances):\n",
    "    print(f\"Rank {i+1}: {distance}\")\n",
    "\n",
    "# Calculate R-squared (R2 score)\n",
    "r2 = r2_score(y_test, y_pred)\n",
    "print(f'R^2 Score: {r2}')\n",
    "\n",
    "# Calculate Mean Squared Error (MSE)\n",
    "mse = mean_squared_error(y_test, y_pred)\n",
    "print(f'Mean Squared Error (MSE): {mse}')\n"
   ]
  },
  {
   "cell_type": "code",
   "execution_count": 296,
   "id": "8217fe00-2f93-4770-a21e-8e4af39d75a0",
   "metadata": {},
   "outputs": [
    {
     "name": "stdout",
     "output_type": "stream",
     "text": [
      "Collecting seabornNote: you may need to restart the kernel to use updated packages.\n",
      "\n",
      "  Downloading seaborn-0.13.2-py3-none-any.whl.metadata (5.4 kB)\n",
      "Requirement already satisfied: numpy!=1.24.0,>=1.20 in c:\\users\\swaraj\\appdata\\local\\programs\\python\\python312\\lib\\site-packages (from seaborn) (2.0.0)\n",
      "Requirement already satisfied: pandas>=1.2 in c:\\users\\swaraj\\appdata\\local\\programs\\python\\python312\\lib\\site-packages (from seaborn) (2.2.2)\n",
      "Requirement already satisfied: matplotlib!=3.6.1,>=3.4 in c:\\users\\swaraj\\appdata\\local\\programs\\python\\python312\\lib\\site-packages (from seaborn) (3.9.0)\n",
      "Requirement already satisfied: contourpy>=1.0.1 in c:\\users\\swaraj\\appdata\\local\\programs\\python\\python312\\lib\\site-packages (from matplotlib!=3.6.1,>=3.4->seaborn) (1.2.1)\n",
      "Requirement already satisfied: cycler>=0.10 in c:\\users\\swaraj\\appdata\\local\\programs\\python\\python312\\lib\\site-packages (from matplotlib!=3.6.1,>=3.4->seaborn) (0.12.1)\n",
      "Requirement already satisfied: fonttools>=4.22.0 in c:\\users\\swaraj\\appdata\\local\\programs\\python\\python312\\lib\\site-packages (from matplotlib!=3.6.1,>=3.4->seaborn) (4.53.0)\n",
      "Requirement already satisfied: kiwisolver>=1.3.1 in c:\\users\\swaraj\\appdata\\local\\programs\\python\\python312\\lib\\site-packages (from matplotlib!=3.6.1,>=3.4->seaborn) (1.4.5)\n",
      "Requirement already satisfied: packaging>=20.0 in c:\\users\\swaraj\\appdata\\local\\programs\\python\\python312\\lib\\site-packages (from matplotlib!=3.6.1,>=3.4->seaborn) (24.1)\n",
      "Requirement already satisfied: pillow>=8 in c:\\users\\swaraj\\appdata\\local\\programs\\python\\python312\\lib\\site-packages (from matplotlib!=3.6.1,>=3.4->seaborn) (10.3.0)\n",
      "Requirement already satisfied: pyparsing>=2.3.1 in c:\\users\\swaraj\\appdata\\local\\programs\\python\\python312\\lib\\site-packages (from matplotlib!=3.6.1,>=3.4->seaborn) (3.1.2)\n",
      "Requirement already satisfied: python-dateutil>=2.7 in c:\\users\\swaraj\\appdata\\local\\programs\\python\\python312\\lib\\site-packages (from matplotlib!=3.6.1,>=3.4->seaborn) (2.9.0.post0)\n",
      "Requirement already satisfied: pytz>=2020.1 in c:\\users\\swaraj\\appdata\\local\\programs\\python\\python312\\lib\\site-packages (from pandas>=1.2->seaborn) (2024.1)\n",
      "Requirement already satisfied: tzdata>=2022.7 in c:\\users\\swaraj\\appdata\\local\\programs\\python\\python312\\lib\\site-packages (from pandas>=1.2->seaborn) (2024.1)\n",
      "Requirement already satisfied: six>=1.5 in c:\\users\\swaraj\\appdata\\local\\programs\\python\\python312\\lib\\site-packages (from python-dateutil>=2.7->matplotlib!=3.6.1,>=3.4->seaborn) (1.16.0)\n",
      "Downloading seaborn-0.13.2-py3-none-any.whl (294 kB)\n",
      "   ---------------------------------------- 0.0/294.9 kB ? eta -:--:--\n",
      "   ---------------------------------------- 0.0/294.9 kB ? eta -:--:--\n",
      "   - -------------------------------------- 10.2/294.9 kB ? eta -:--:--\n",
      "   ----- --------------------------------- 41.0/294.9 kB 487.6 kB/s eta 0:00:01\n",
      "   ------------------- -------------------- 143.4/294.9 kB 1.1 MB/s eta 0:00:01\n",
      "   -------------------------------------- - 286.7/294.9 kB 1.6 MB/s eta 0:00:01\n",
      "   ---------------------------------------- 294.9/294.9 kB 1.4 MB/s eta 0:00:00\n",
      "Installing collected packages: seaborn\n",
      "Successfully installed seaborn-0.13.2\n"
     ]
    },
    {
     "name": "stderr",
     "output_type": "stream",
     "text": [
      "\n",
      "[notice] A new release of pip is available: 24.0 -> 24.1.1\n",
      "[notice] To update, run: python.exe -m pip install --upgrade pip\n"
     ]
    }
   ],
   "source": [
    "pip install seaborn"
   ]
  },
  {
   "cell_type": "code",
   "execution_count": 298,
   "id": "83908b5d-54f1-4d55-ba4c-c846a17a048d",
   "metadata": {},
   "outputs": [
    {
     "data": {
      "image/png": "[encoded data removed]",
      "text/plain": [
       "<Figure size 800x600 with 1 Axes>"
      ]
     },
     "metadata": {},
     "output_type": "display_data"
    }
   ],
   "source": [
    "plt.figure(figsize=(8, 6))\n",
    "plt.scatter(y_test, y_pred, color='blue')\n",
    "plt.plot([y_test.min(), y_test.max()], [y_test.min(), y_test.max()], linestyle='--', color='gray', linewidth=2)\n",
    "plt.xlabel('Actual values')\n",
    "plt.ylabel('Predicted values')\n",
    "plt.title('Actual vs Predicted values')\n",
    "plt.grid(True)\n",
    "plt.show()"
   ]
  },
  {
   "cell_type": "markdown",
   "id": "21fb21d2-bbbd-40ad-ad1c-0b4d5805ea52",
   "metadata": {},
   "source": [
    "# to check using cross validation as data is small"
   ]
  },
  {
   "cell_type": "code",
   "execution_count": 304,
   "id": "78040fa4-4e89-4fa5-bf87-46a705983672",
   "metadata": {},
   "outputs": [
    {
     "name": "stdout",
     "output_type": "stream",
     "text": [
      "Mean RMSE across 5-fold cross-validation: 2.88082748633789\n"
     ]
    }
   ],
   "source": [
    "import numpy as np\n",
    "import pandas as pd\n",
    "from sklearn.model_selection import KFold, cross_val_score\n",
    "from sklearn.neighbors import KNeighborsRegressor\n",
    "from sklearn.metrics import mean_squared_error\n",
    "\n",
    "# Example dataset with features (X) and target (y)\n",
    "\n",
    "# Initialize KNeighborsRegressor with desired parameters\n",
    "model = KNeighborsRegressor(n_neighbors=5)\n",
    "\n",
    "# Define the number of folds for cross-validation\n",
    "k_folds = 5  # Example: 5-fold cross-validation\n",
    "\n",
    "# Initialize cross-validation strategy\n",
    "kf = KFold(n_splits=k_folds, shuffle=True, random_state=10)\n",
    "\n",
    "# Perform cross-validation and calculate mean squared error (MSE) for each fold\n",
    "mse_scores = cross_val_score(model, features, label, scoring='neg_mean_squared_error', cv=kf)\n",
    "\n",
    "# Convert negative MSE scores to positive and compute RMSE (Root Mean Squared Error)\n",
    "rmse_scores = np.sqrt(-mse_scores)\n",
    "\n",
    "# Calculate mean RMSE across all folds\n",
    "mean_rmse = np.mean(rmse_scores)\n",
    "print(f'Mean RMSE across {k_folds}-fold cross-validation: {mean_rmse}')\n"
   ]
  },
  {
   "cell_type": "markdown",
   "id": "2cea1fec-086b-4092-9003-da29a140a6d7",
   "metadata": {},
   "source": [
    "# function to be incorporated in our model in leaflet"
   ]
  },
  {
   "cell_type": "code",
   "execution_count": 267,
   "id": "279dce20-ad2b-4c59-9602-f0f1842a7fa0",
   "metadata": {},
   "outputs": [
    {
     "data": {
      "text/plain": [
       "array([[77.4155822 , 21.12316519],\n",
       "       [77.4154832 , 35.69222007],\n",
       "       [77.3918919 , 19.17711265],\n",
       "       [77.10608185, 10.08195151],\n",
       "       [77.154     , 10.85991554],\n",
       "       [77.3581426 , 16.18666553],\n",
       "       [77.2094999 ,  2.99823448],\n",
       "       [77.2120573 ,  9.2473986 ],\n",
       "       [77.32142   , 12.95809717],\n",
       "       [77.31239   , 12.21291532],\n",
       "       [77.30095   , 11.28452978],\n",
       "       [77.28962   , 10.28313595],\n",
       "       [77.27756   ,  9.28516413],\n",
       "       [77.2667    ,  8.39446529],\n",
       "       [77.24994   ,  7.22152481],\n",
       "       [77.22817   ,  6.24676112],\n",
       "       [77.21653   ,  5.96214143],\n",
       "       [77.20727   ,  5.83572854],\n",
       "       [77.19882   ,  5.94578167],\n",
       "       [77.18169   ,  6.78248917],\n",
       "       [77.16459   ,  8.77691416],\n",
       "       [77.1616    ,  9.54025865],\n",
       "       [77.15226   , 10.66819762],\n",
       "       [77.14024   , 11.51836791],\n",
       "       [77.13223   , 12.43554946],\n",
       "       [77.12591   , 13.20154338],\n",
       "       [77.11467   , 14.51408061],\n",
       "       [77.10713   , 15.48757661],\n",
       "       [77.1382654 , 16.08974565],\n",
       "       [77.1398323 , 15.39548969],\n",
       "       [77.1494029 , 14.17095791],\n",
       "       [77.16267   , 13.25082025],\n",
       "       [77.17046   , 12.00385302],\n",
       "       [77.18053   , 10.71416813],\n",
       "       [77.19363   ,  9.99614325],\n",
       "       [77.20722   ,  9.33642974],\n",
       "       [77.21483   ,  9.01363891],\n",
       "       [77.2214    ,  8.33011498],\n",
       "       [77.2250299 ,  7.17246835],\n",
       "       [77.22817   ,  6.24676112],\n",
       "       [77.23014   ,  5.30466414],\n",
       "       [77.22637   ,  4.28686057],\n",
       "       [77.22144   ,  3.46335454],\n",
       "       [77.21826   ,  2.28974059],\n",
       "       [77.21389   ,  1.11377567],\n",
       "       [77.21191   ,  0.29901906],\n",
       "       [77.21198   ,  0.38296003],\n",
       "       [77.21088   ,  1.85936344],\n",
       "       [77.21209   ,  2.99746653],\n",
       "       [77.20935   ,  4.29670785],\n",
       "       [77.20771   ,  5.00313338],\n",
       "       [77.20682   ,  6.02052136],\n",
       "       [77.20667   ,  7.84810066],\n",
       "       [77.20565   ,  9.55946742],\n",
       "       [77.20138   , 10.40114102],\n",
       "       [77.18648   , 11.43091684],\n",
       "       [77.17484   , 12.37709366],\n",
       "       [77.16153   , 13.5632806 ],\n",
       "       [77.14922   , 14.572044  ],\n",
       "       [77.12583   , 16.88691339],\n",
       "       [77.10232   , 17.98856634],\n",
       "       [77.09235   , 18.58808793],\n",
       "       [77.08006   , 19.53786107],\n",
       "       [77.07175   , 20.69744044],\n",
       "       [77.07268   , 21.74780235],\n",
       "       [77.05828   , 16.23455196],\n",
       "       [77.06706   , 14.85361384],\n",
       "       [77.06454   , 14.75660717],\n",
       "       [77.05682   , 15.30960934],\n",
       "       [77.04929   , 15.88540545],\n",
       "       [77.04051   , 16.62283517],\n",
       "       [77.03326   , 17.25606933],\n",
       "       [77.02588   , 17.92316523],\n",
       "       [77.02197   , 18.25768145],\n",
       "       [77.03326   , 17.16488284],\n",
       "       [77.04514   , 16.01017802],\n",
       "       [77.0653    , 14.07881452],\n",
       "       [77.05585   , 14.9746664 ],\n",
       "       [77.07767   , 12.93453466],\n",
       "       [77.08669   , 12.12654057],\n",
       "       [77.09648   , 11.26796457],\n",
       "       [77.10495   , 10.5740373 ],\n",
       "       [77.11284   ,  9.95637967],\n",
       "       [77.1227    ,  9.2839824 ],\n",
       "       [77.13164   ,  8.6980085 ],\n",
       "       [77.14248   ,  8.12511156],\n",
       "       [77.15057   ,  7.36025016],\n",
       "       [77.15824   ,  6.48964767],\n",
       "       [77.16929   ,  5.19273477],\n",
       "       [77.17815   ,  4.3794504 ],\n",
       "       [77.18855   ,  3.89691092],\n",
       "       [77.19988   ,  3.49232929],\n",
       "       [77.2084    ,  2.81717623],\n",
       "       [77.21826   ,  2.28974059],\n",
       "       [77.22436   ,  2.33765524],\n",
       "       [77.2341    ,  2.78871536],\n",
       "       [77.2425    ,  3.43701005],\n",
       "       [77.24993   ,  4.06227495],\n",
       "       [77.26792   ,  5.84558772],\n",
       "       [77.27869   ,  6.81831734],\n",
       "       [77.29455   ,  8.41754809],\n",
       "       [77.29458935,  8.63908544],\n",
       "       [77.30204   ,  9.49055461],\n",
       "       [77.31139   , 10.49586781],\n",
       "       [77.31757   , 11.31912311],\n",
       "       [77.32612   , 12.39819103],\n",
       "       [77.3342    , 13.42041827],\n",
       "       [77.34598   , 14.34933393],\n",
       "       [77.35608   , 15.0080659 ],\n",
       "       [77.0848883 , 19.12577269],\n",
       "       [77.0848883 , 19.12577269],\n",
       "       [77.0848883 , 19.12577269],\n",
       "       [77.0848883 , 19.12577269],\n",
       "       [77.0848883 , 19.12577269],\n",
       "       [77.26792   ,  5.84558772],\n",
       "       [77.27749   ,  6.93938189],\n",
       "       [77.28683   ,  8.00592842],\n",
       "       [77.29543   ,  8.98461843],\n",
       "       [77.30558   , 10.18055596],\n",
       "       [77.31603   , 11.07361057],\n",
       "       [77.32432   , 11.78893787],\n",
       "       [77.33974   , 13.37541423],\n",
       "       [77.1442    ,  9.11359719],\n",
       "       [77.15748   ,  7.33992285],\n",
       "       [77.15057   ,  7.36025016],\n",
       "       [77.16994   ,  7.61535746],\n",
       "       [77.15527   ,  8.27995025],\n",
       "       [77.14614   ,  8.98083356],\n",
       "       [77.13056   , 10.22747108],\n",
       "       [77.11965   , 11.21545141],\n",
       "       [77.11228   , 11.78060304],\n",
       "       [77.10227   , 12.65519226],\n",
       "       [77.09261   , 13.50382393],\n",
       "       [77.08077   , 14.56299457],\n",
       "       [77.07385   , 15.19657956],\n",
       "       [77.06471   , 16.0036113 ],\n",
       "       [77.05596   , 16.74817367],\n",
       "       [77.04381   , 17.81961173],\n",
       "       [77.03133   , 18.97320217],\n",
       "       [77.0171333 , 20.25704368],\n",
       "       [76.9961591 , 22.23254652],\n",
       "       [76.9772069 , 24.02962592],\n",
       "       [76.9640828 , 25.28038629],\n",
       "       [76.9511988 , 26.51573955],\n",
       "       [76.9354851 , 28.02501295],\n",
       "       [76.9192027 , 29.76450808],\n",
       "       [77.0935    , 17.49846245],\n",
       "       [77.0935    , 17.49846245],\n",
       "       [77.0935    , 17.49846245],\n",
       "       [77.0935    , 17.49846245],\n",
       "       [77.0935    , 17.49846245],\n",
       "       [77.0935    , 17.49846245],\n",
       "       [77.0935    , 17.49846245],\n",
       "       [77.0935    , 17.49846245],\n",
       "       [77.0935    , 17.49846245],\n",
       "       [77.0935    , 17.49846245],\n",
       "       [77.0935    , 17.49846245],\n",
       "       [77.22817   ,  6.24676112],\n",
       "       [77.52850191, 83.17247216],\n",
       "       [77.23767617,  4.89440621],\n",
       "       [77.2407823 ,  4.18797581],\n",
       "       [77.2414363 ,  3.66529485],\n",
       "       [77.234195  ,  2.77986916],\n",
       "       [77.2181649 ,  1.05569487],\n",
       "       [77.21191   ,  0.29901906],\n",
       "       [77.22829   ,  2.25397381],\n",
       "       [77.23326   ,  3.52667775],\n",
       "       [77.23766   ,  4.31995794],\n",
       "       [77.23653   ,  5.4957615 ],\n",
       "       [77.23423   ,  6.05360606],\n",
       "       [77.24205   ,  7.27433233],\n",
       "       [77.25154   ,  8.08876636],\n",
       "       [77.25835   ,  8.57879306],\n",
       "       [77.26401   ,  9.40144798],\n",
       "       [77.27504   , 10.19206437],\n",
       "       [77.28319   , 11.10239299],\n",
       "       [77.28826   , 12.22672653],\n",
       "       [77.29388   , 13.38560586],\n",
       "       [77.2993    , 15.2022843 ],\n",
       "       [77.30307   , 16.25202073],\n",
       "       [77.2219388 ,  4.39065953],\n",
       "       [77.2219388 , 17.41568585],\n",
       "       [77.3023001 , 21.18901251],\n",
       "       [77.03257609, 18.84233247],\n",
       "       [77.310278  , 23.43891725],\n",
       "       [77.0848883 , 19.12577269],\n",
       "       [77.3123599 , 26.09803573],\n",
       "       [77.313462  , 27.33698079],\n",
       "       [77.3149203 , 29.00439033],\n",
       "       [77.3162264 , 30.67292441],\n",
       "       [77.3164281 , 32.2134857 ],\n",
       "       [77.0779235 , 12.90301417],\n",
       "       [77.085178  , 12.08845591],\n",
       "       [77.0823561 , 12.43506403],\n",
       "       [77.0828242 , 12.55856518],\n",
       "       [77.1111533 , 10.39019053],\n",
       "       [77.1111533 , 10.39019053],\n",
       "       [77.13966549,  9.23292998],\n",
       "       [77.16079073,  7.56063887],\n",
       "       [77.1710841 ,  7.53436745],\n",
       "       [77.1847012 ,  7.34078127],\n",
       "       [77.18987   ,  7.90867123],\n",
       "       [77.2067072 ,  7.74725063],\n",
       "       [77.2140757 ,  7.86016569],\n",
       "       [77.2280694 ,  8.6273604 ],\n",
       "       [77.2384553 ,  8.50935278],\n",
       "       [77.2515057 ,  8.61006497],\n",
       "       [77.2606671 ,  8.73463392],\n",
       "       [77.2648487 ,  8.56668692],\n",
       "       [77.2749004 ,  8.81252166],\n",
       "       [77.28116474,  9.36001712],\n",
       "       [77.2919304 ,  9.98868458],\n",
       "       [77.2966578 , 11.42618456],\n",
       "       [77.3059891 , 12.16620656],\n",
       "       [77.321595  , 12.91565756],\n",
       "       [77.334332  , 13.44105985],\n",
       "       [77.181964  , 12.57036675],\n",
       "       [77.1755473 , 10.92429376],\n",
       "       [77.15086655, 12.83566692],\n",
       "       [77.15264042, 10.6624794 ],\n",
       "       [77.1496094 ,  9.87148333],\n",
       "       [77.1420875 ,  9.05524915],\n",
       "       [77.1272678 ,  9.36760989],\n",
       "       [77.11606038,  9.59958994],\n",
       "       [77.1297333 ,  8.15826646],\n",
       "       [77.1403175 ,  6.86846133],\n",
       "       [77.13497891,  7.56286794],\n",
       "       [77.1690817 ,  4.75241473],\n",
       "       [77.175741  ,  5.09996126],\n",
       "       [77.18701648,  5.547029  ],\n",
       "       [77.1953703 ,  4.61516971],\n",
       "       [77.21024148,  4.39303255],\n",
       "       [77.2219388 ,  4.39065953],\n",
       "       [77.23653   ,  5.4957615 ],\n",
       "       [77.2491906 ,  6.52858037],\n",
       "       [77.2585979 ,  6.68728515],\n",
       "       [77.2572494 ,  5.47803954],\n",
       "       [77.2925892 ,  8.24728474],\n",
       "       [77.2987023 ,  8.80206269],\n",
       "       [77.3088549 ,  9.747417  ],\n",
       "       [77.3054069 ,  9.435184  ],\n",
       "       [77.3044906 ,  9.40170612],\n",
       "       [77.31019788, 10.01747303],\n",
       "       [77.3180037 , 11.24839296],\n",
       "       [77.30620811, 10.26562912],\n",
       "       [77.2957877 ,  9.55145674],\n",
       "       [77.2901853 ,  9.30890104],\n",
       "       [77.284881  ,  9.31351174],\n",
       "       [77.27756   ,  9.28516413],\n",
       "       [77.2748055 ,  9.98651743],\n",
       "       [77.27962397, 11.08451738],\n",
       "       [77.2861253 , 12.39499963],\n",
       "       [77.2861253 , 13.33263015],\n",
       "       [77.03543017, 16.94743632],\n",
       "       [77.3753    , 16.53548161],\n",
       "       [77.391029  , 19.79709498],\n",
       "       [77.382685  , 17.68547231],\n",
       "       [77.384798  , 18.3171294 ],\n",
       "       [77.3743146 , 16.16521527],\n",
       "       [77.391029  , 19.79709498],\n",
       "       [77.397244  , 20.91921211],\n",
       "       [77.409015  , 22.74712896],\n",
       "       [77.55447875, 37.07380576],\n",
       "       [77.42625566, 24.56043679],\n",
       "       [76.9155232 , 36.63147559],\n",
       "       [76.9155232 , 36.63147559],\n",
       "       [76.963024  , 33.17622442],\n",
       "       [76.9155232 , 36.63147559],\n",
       "       [77.55447875, 37.07380576],\n",
       "       [77.50005403, 33.36597724],\n",
       "       [77.50809851, 33.68547851],\n",
       "       [77.5127    , 33.6583756 ],\n",
       "       [77.50399   , 32.72491337],\n",
       "       [77.50399   , 32.72491337],\n",
       "       [77.50399   , 32.72491337],\n",
       "       [77.0442935 , 16.59048812],\n",
       "       [77.0104375 , 19.38591817],\n",
       "       [76.9823908 , 22.12118334],\n",
       "       [77.22144   ,  3.46335454],\n",
       "       [77.2119    ,  1.70383263],\n",
       "       [77.16155   ,  5.24479544],\n",
       "       [77.12092   , 11.24069124],\n",
       "       [77.08669   , 13.51855608],\n",
       "       [77.05828   , 16.23455196]])"
      ]
     },
     "execution_count": 267,
     "metadata": {},
     "output_type": "execute_result"
    }
   ],
   "source": [
    "\n",
    "\n",
    "ans=df.iloc[:,-2:]\n",
    "arr=np.array(ans)\n",
    "arr"
   ]
  },
  {
   "cell_type": "code",
   "execution_count": 268,
   "id": "f0502147-8f1b-4ce7-bb58-186306f43c64",
   "metadata": {},
   "outputs": [
    {
     "name": "stdout",
     "output_type": "stream",
     "text": [
      "Random coordinate around the user location:\n",
      "[[28.64049024 77.04160134]]\n",
      "\n",
      "Nearest charging stations to the generated random coordinate:\n",
      "[[[77.52850191 83.17247216]\n",
      "  [76.9155232  36.63147559]\n",
      "  [76.9155232  36.63147559]\n",
      "  [76.9155232  36.63147559]\n",
      "  [77.55447875 37.07380576]]]\n"
     ]
    }
   ],
   "source": [
    "import numpy as np\n",
    "from sklearn.neighbors import NearestNeighbors\n",
    "\n",
    "# User coordinates (latitude, longitude)\n",
    "user_coordinates = np.array([[28.60383, 77.13497891]])\n",
    "\n",
    "\n",
    "# Function to generate one random coordinate within a given radius\n",
    "def generate_random_coordinate(center, radius):\n",
    "    angle = np.random.uniform(0, 2 * np.pi)\n",
    "    r = radius * np.sqrt(np.random.uniform(0, 1))\n",
    "    dx = r * np.cos(angle)\n",
    "    dy = r * np.sin(angle)\n",
    "    random_lat = center[0] + (dy / 110.574)  # Approx. km per degree latitude\n",
    "    random_lon = center[1] + (dx / (111.320 * np.cos(np.radians(center[0]))))  # Approx. km per degree longitude\n",
    "    return np.array([random_lat, random_lon])\n",
    "\n",
    "# Generate one random coordinate within a 10 km radius around user_coordinates\n",
    "radius_km = 10\n",
    "random_coordinate = generate_random_coordinate(user_coordinates[0], radius_km).reshape(1, -1)\n",
    "\n",
    "print(\"Random coordinate around the user location:\")\n",
    "print(random_coordinate)\n",
    "\n",
    "# Initialize the KNN model with the number of neighbors\n",
    "k = 5\n",
    "knn = NearestNeighbors(n_neighbors=k, algorithm='ball_tree')\n",
    "\n",
    "# Fit the KNN model with the charging station coordinates\n",
    "knn.fit(arr)\n",
    "\n",
    "# Find the 5-nearest charging stations to the random coordinate\n",
    "distances, indices = knn.kneighbors(random_coordinate)\n",
    "\n",
    "# Retrieve the coordinates of the nearest charging stations\n",
    "nearest_charging_stations = arr[indices]\n",
    "\n",
    "print(\"\\nNearest charging stations to the generated random coordinate:\")\n",
    "print(nearest_charging_stations)\n"
   ]
  },
  {
   "cell_type": "code",
   "execution_count": 269,
   "id": "635563c3-9487-4906-bd4f-d99f828b79e6",
   "metadata": {},
   "outputs": [
    {
     "name": "stdout",
     "output_type": "stream",
     "text": [
      "    Latitude  Longitude\n",
      "0  77.528502  83.172472\n",
      "1  76.915523  36.631476\n",
      "2  76.915523  36.631476\n",
      "3  76.915523  36.631476\n",
      "4  77.554479  37.073806\n"
     ]
    }
   ],
   "source": [
    "data=(nearest_charging_stations[0])\n",
    "new_df=pd.DataFrame(data,columns=[\"Latitude\",\"Longitude\"])\n",
    "print(new_df)\n",
    "   "
   ]
  },
  {
   "cell_type": "code",
   "execution_count": 271,
   "id": "3f258dd1-cfeb-4eec-a3d0-efc8543c5f43",
   "metadata": {},
   "outputs": [
    {
     "name": "stdout",
     "output_type": "stream",
     "text": [
      "Dictionary of lists: {'ID (Station ID)': [], 'Station Names': [], 'Dist. From First Station(km)': [], 'Metro Line': [], 'Opened(Year)': [], 'Layout': [], 'Latitude': [], 'Longitude': [], 'Distance_km': []}\n"
     ]
    }
   ],
   "source": [
    "df_dict_list = result_df.to_dict(orient='list')\n",
    "print(\"Dictionary of lists:\", df_dict_list)\n",
    "\n",
    "\n"
   ]
  },
  {
   "cell_type": "code",
   "execution_count": null,
   "id": "3e949ef5-96c0-449c-a6c3-cda3df2b3328",
   "metadata": {},
   "outputs": [],
   "source": []
  },
  {
   "cell_type": "code",
   "execution_count": 196,
   "id": "7697aab0-facc-476a-9463-ba1807ee74b0",
   "metadata": {},
   "outputs": [
    {
     "name": "stdout",
     "output_type": "stream",
     "text": [
      "Dictionary with station names as keys and coordinates as values:\n",
      "{'Karol Bagh': (28.644, 77.18855), 'Jhandewalan': (28.64427, 77.19988), 'Rajendra Place': (28.6425, 77.17815), 'R K Ashram Marg': (28.63923, 77.2084), 'Raj Bagh': (28.6408602, 77.2094999)}\n"
     ]
    }
   ],
   "source": [
    "# Given dictionary of lists\n",
    "\n",
    "\n",
    "# Create a dictionary where keys are station names and values are (latitude, longitude) tuples\n",
    "station_dict = {name: (lat, lon) for name, lat, lon in zip(df_dict_list['Station Names'], df_dict_list['Latitude'], df_dict_list['Longitude'])}\n",
    "\n",
    "print(\"Dictionary with station names as keys and coordinates as values:\")\n",
    "print(station_dict)\n"
   ]
  },
  {
   "cell_type": "code",
   "execution_count": null,
   "id": "eb24191d-97f7-458c-b918-a4c3d390c1ba",
   "metadata": {},
   "outputs": [],
   "source": []
  },
  {
   "cell_type": "code",
   "execution_count": null,
   "id": "acd9bae2-c92f-4dee-a37b-80c69c5bb80b",
   "metadata": {},
   "outputs": [],
   "source": [
    "\n"
   ]
  },
  {
   "cell_type": "code",
   "execution_count": null,
   "id": "f519ede7-6fc0-44b4-94c6-ac401e426bab",
   "metadata": {},
   "outputs": [],
   "source": []
  },
  {
   "cell_type": "code",
   "execution_count": null,
   "id": "af796ef0-e45d-4714-80bd-81ea4807866a",
   "metadata": {},
   "outputs": [],
   "source": []
  }
 ],
 "metadata": {
  "kernelspec": {
   "display_name": "Python 3 (ipykernel)",
   "language": "python",
   "name": "python3"
  },
  "language_info": {
   "codemirror_mode": {
    "name": "ipython",
    "version": 3
   },
   "file_extension": ".py",
   "mimetype": "text/x-python",
   "name": "python",
   "nbconvert_exporter": "python",
   "pygments_lexer": "ipython3",
   "version": "3.12.4"
  }
 },
 "nbformat": 4,
 "nbformat_minor": 5
}
